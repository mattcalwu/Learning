{
 "cells": [
  {
   "cell_type": "markdown",
   "id": "d0a94f9a-ae9f-4999-a832-c55b7db60f77",
   "metadata": {},
   "source": [
    "# Kotlin Basics"
   ]
  },
  {
   "cell_type": "code",
   "execution_count": 1,
   "id": "67df57b8-0bd8-4a3e-a2db-a89b7036418b",
   "metadata": {},
   "outputs": [],
   "source": [
    "class Greeter(val name: String) {\n",
    "    fun greet() = println(\"Hello, $name!\")\n",
    "}"
   ]
  },
  {
   "cell_type": "code",
   "execution_count": 3,
   "id": "af931766-121c-4f99-9f98-a71201396db1",
   "metadata": {},
   "outputs": [
    {
     "name": "stdout",
     "output_type": "stream",
     "text": [
      "Hello, Matthew!\n"
     ]
    }
   ],
   "source": [
    "Greeter(\"Matthew\").greet()"
   ]
  },
  {
   "cell_type": "code",
   "execution_count": 6,
   "id": "5cc83225-8b8f-45e6-a80a-80fc374c1bc0",
   "metadata": {},
   "outputs": [],
   "source": [
    "fun main() {\n",
    "    println(\"Hello World!\")\n",
    "}"
   ]
  },
  {
   "cell_type": "code",
   "execution_count": 7,
   "id": "ae7b7402-0a30-426a-b7bd-6490b0667a97",
   "metadata": {},
   "outputs": [
    {
     "name": "stdout",
     "output_type": "stream",
     "text": [
      "Hello World!\n"
     ]
    }
   ],
   "source": [
    "main()"
   ]
  },
  {
   "cell_type": "code",
   "execution_count": 8,
   "id": "b23572df-ac95-459c-a178-40e8d4e66899",
   "metadata": {},
   "outputs": [],
   "source": [
    "fun sum(a: Int, b: Int): Int {\n",
    "    return a + b\n",
    "}"
   ]
  },
  {
   "cell_type": "code",
   "execution_count": 9,
   "id": "903a740f-e777-4a3d-8055-b8763830a7d3",
   "metadata": {},
   "outputs": [
    {
     "data": {
      "text/plain": [
       "93"
      ]
     },
     "execution_count": 9,
     "metadata": {},
     "output_type": "execute_result"
    }
   ],
   "source": [
    "sum(15, 78)"
   ]
  },
  {
   "cell_type": "code",
   "execution_count": 10,
   "id": "51047e52-e7ca-4f59-8b3e-67706aeab701",
   "metadata": {},
   "outputs": [],
   "source": [
    "fun printSum(a: Int, b: Int): Unit {\n",
    "    println(\"sum of $a and $b is ${a + b}\")\n",
    "}"
   ]
  },
  {
   "cell_type": "code",
   "execution_count": 11,
   "id": "306af83e-9bf2-4d28-9fdb-9b957d86cfaa",
   "metadata": {},
   "outputs": [
    {
     "name": "stdout",
     "output_type": "stream",
     "text": [
      "sum of 38 and 29 is 67\n"
     ]
    }
   ],
   "source": [
    "printSum(38, 29)"
   ]
  },
  {
   "cell_type": "markdown",
   "id": "1906807f-5adf-44db-b8e7-d10af8818a83",
   "metadata": {},
   "source": [
    "## Introduction"
   ]
  },
  {
   "cell_type": "raw",
   "id": "4433cd90-470d-4d9b-b754-a7581cf085e4",
   "metadata": {},
   "source": [
    "I will be copying and playing around with the basic examples found on the Kotlin guide here https://play.kotlinlang.org/byExample/01_introduction/01_Hello%20world"
   ]
  },
  {
   "cell_type": "markdown",
   "id": "b34c7103-34ed-46f6-a12b-1b029e879b85",
   "metadata": {},
   "source": [
    "### Hello World"
   ]
  },
  {
   "cell_type": "code",
   "execution_count": 4,
   "id": "a509da1b-fe70-4107-b770-bace2acb5414",
   "metadata": {},
   "outputs": [
    {
     "name": "stdout",
     "output_type": "stream",
     "text": [
      "Hello, world!\n"
     ]
    }
   ],
   "source": [
    "fun main() {\n",
    "    println(\"Hello, world!\")\n",
    "}\n",
    "\n",
    "main()"
   ]
  },
  {
   "cell_type": "markdown",
   "id": "160bd729-c2e3-431c-9f31-17921f318aef",
   "metadata": {},
   "source": [
    "### Functions\n",
    "In this section, we will see three types of functions used in Kotlin"
   ]
  },
  {
   "cell_type": "code",
   "execution_count": 10,
   "id": "4000c0df-01e2-4eba-ba60-19368603c1e6",
   "metadata": {},
   "outputs": [
    {
     "name": "stdout",
     "output_type": "stream",
     "text": [
      "Hello\n",
      "[Log] Hello\n",
      "[Info] Hello\n",
      "[Log] Hello\n",
      "3\n",
      "8\n"
     ]
    }
   ],
   "source": [
    "// Default Parameter Values and Named Args\n",
    "fun printMessage(message: String): Unit {\n",
    "    println(message)\n",
    "}\n",
    "\n",
    "fun printMessageWithPrefix(message: String, prefix: String = \"Info\") {\n",
    "    println(\"[$prefix] $message\")\n",
    "}\n",
    "\n",
    "fun sum(x: Int, y: Int): Int {\n",
    "    return x + y;\n",
    "}\n",
    "\n",
    "fun multiply(x: Int, y: Int): Int {\n",
    "    return x * y;\n",
    "}\n",
    "\n",
    "printMessage(\"Hello\")\n",
    "printMessageWithPrefix(\"Hello\", \"Log\")\n",
    "printMessageWithPrefix(\"Hello\")\n",
    "printMessageWithPrefix(prefix = \"Log\", message = \"Hello\")\n",
    "println(sum(1,2))\n",
    "println(multiply(2,4))"
   ]
  },
  {
   "cell_type": "code",
   "execution_count": 50,
   "id": "8630ed55-0945-42eb-adc0-5bfc4b2b79c4",
   "metadata": {},
   "outputs": [
    {
     "name": "stdout",
     "output_type": "stream",
     "text": [
      "Bye Bye \n",
      "What is 2\n",
      "What is 2\n",
      "kotlin.Unit\n",
      "(Kotlin, Notebook)\n",
      "(Test, it out)\n",
      "[Prefix][Kim]\n",
      "hello\n"
     ]
    }
   ],
   "source": [
    "// Infix Functions\n",
    "\n",
    "infix fun Int.times(str: String) = str.repeat(this)\n",
    "println(2 times \"Bye \")\n",
    "\n",
    "infix fun Int.explain(str: String) = println(\"What is $this\") // This returns a kotlin unit object\n",
    "2 explain \"What this refers to\"\n",
    "println(2 explain \"this will print out a unit object since that is what is being returned by the infix function\")\n",
    "\n",
    "val pair = \"Kotlin\" to \"Notebook\"\n",
    "println(pair)\n",
    "\n",
    "infix fun String.onto(other: String) = Pair(this, other)\n",
    "println(\"Test\" onto \"it out\")\n",
    "\n",
    "val Matteo = Person(\"Matteo\")\n",
    "val Kim = Person(\"Kim\")\n",
    "val Ted = Person(\"Ted\")\n",
    "\n",
    "Matteo likes Kim \n",
    "Kim likes Ted\n",
    "println(\"[Prefix]\" + Matteo.likedPeople.map {it.name})\n",
    "println(Matteo.test)\n",
    "\n",
    "val numbers = mutableListOf<Person>(Kim, Matteo, Ted)\n",
    "\n",
    "\n",
    "class Person(val name: String) {\n",
    "    val likedPeople = mutableListOf<Person>()\n",
    "    val test = \"hello\"\n",
    "    infix fun likes(other: Person) { this.likedPeople.add(other) }\n",
    "}"
   ]
  },
  {
   "cell_type": "code",
   "execution_count": null,
   "id": "6714135e-f0de-4e4a-9401-c98336161605",
   "metadata": {},
   "outputs": [],
   "source": []
  }
 ],
 "metadata": {
  "kernelspec": {
   "display_name": "Kotlin",
   "language": "kotlin",
   "name": "kotlin"
  },
  "language_info": {
   "codemirror_mode": "text/x-kotlin",
   "file_extension": ".kt",
   "mimetype": "text/x-kotlin",
   "name": "kotlin",
   "nbconvert_exporter": "",
   "pygments_lexer": "kotlin",
   "version": "1.9.23"
  }
 },
 "nbformat": 4,
 "nbformat_minor": 5
}
