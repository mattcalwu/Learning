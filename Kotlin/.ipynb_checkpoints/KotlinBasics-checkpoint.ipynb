{
 "cells": [
  {
   "cell_type": "markdown",
   "id": "d0a94f9a-ae9f-4999-a832-c55b7db60f77",
   "metadata": {},
   "source": [
    "# Kotlin Basics"
   ]
  },
  {
   "cell_type": "code",
   "execution_count": 1,
   "id": "67df57b8-0bd8-4a3e-a2db-a89b7036418b",
   "metadata": {},
   "outputs": [],
   "source": [
    "class Greeter(val name: String) {\n",
    "    fun greet() = println(\"Hello, $name!\")\n",
    "}"
   ]
  },
  {
   "cell_type": "code",
   "execution_count": 3,
   "id": "af931766-121c-4f99-9f98-a71201396db1",
   "metadata": {},
   "outputs": [
    {
     "name": "stdout",
     "output_type": "stream",
     "text": [
      "Hello, Matthew!\n"
     ]
    }
   ],
   "source": [
    "Greeter(\"Matthew\").greet()"
   ]
  },
  {
   "cell_type": "code",
   "execution_count": 6,
   "id": "5cc83225-8b8f-45e6-a80a-80fc374c1bc0",
   "metadata": {},
   "outputs": [],
   "source": [
    "fun main() {\n",
    "    println(\"Hello World!\")\n",
    "}"
   ]
  },
  {
   "cell_type": "code",
   "execution_count": 7,
   "id": "ae7b7402-0a30-426a-b7bd-6490b0667a97",
   "metadata": {},
   "outputs": [
    {
     "name": "stdout",
     "output_type": "stream",
     "text": [
      "Hello World!\n"
     ]
    }
   ],
   "source": [
    "main()"
   ]
  },
  {
   "cell_type": "code",
   "execution_count": 8,
   "id": "b23572df-ac95-459c-a178-40e8d4e66899",
   "metadata": {},
   "outputs": [],
   "source": [
    "fun sum(a: Int, b: Int): Int {\n",
    "    return a + b\n",
    "}"
   ]
  },
  {
   "cell_type": "code",
   "execution_count": 9,
   "id": "903a740f-e777-4a3d-8055-b8763830a7d3",
   "metadata": {},
   "outputs": [
    {
     "data": {
      "text/plain": [
       "93"
      ]
     },
     "execution_count": 9,
     "metadata": {},
     "output_type": "execute_result"
    }
   ],
   "source": [
    "sum(15, 78)"
   ]
  },
  {
   "cell_type": "code",
   "execution_count": 10,
   "id": "51047e52-e7ca-4f59-8b3e-67706aeab701",
   "metadata": {},
   "outputs": [],
   "source": [
    "fun printSum(a: Int, b: Int): Unit {\n",
    "    println(\"sum of $a and $b is ${a + b}\")\n",
    "}"
   ]
  },
  {
   "cell_type": "code",
   "execution_count": 11,
   "id": "306af83e-9bf2-4d28-9fdb-9b957d86cfaa",
   "metadata": {},
   "outputs": [
    {
     "name": "stdout",
     "output_type": "stream",
     "text": [
      "sum of 38 and 29 is 67\n"
     ]
    }
   ],
   "source": [
    "printSum(38, 29)"
   ]
  },
  {
   "cell_type": "code",
   "execution_count": null,
   "id": "e241aadd-6b13-415d-9f9c-269fe0c15429",
   "metadata": {},
   "outputs": [],
   "source": []
  }
 ],
 "metadata": {
  "kernelspec": {
   "display_name": "Kotlin",
   "language": "kotlin",
   "name": "kotlin"
  },
  "language_info": {
   "codemirror_mode": "text/x-kotlin",
   "file_extension": ".kt",
   "mimetype": "text/x-kotlin",
   "name": "kotlin",
   "nbconvert_exporter": "",
   "pygments_lexer": "kotlin",
   "version": "1.9.23"
  }
 },
 "nbformat": 4,
 "nbformat_minor": 5
}
