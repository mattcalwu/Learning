{
 "cells": [
  {
   "cell_type": "markdown",
   "id": "d0a94f9a-ae9f-4999-a832-c55b7db60f77",
   "metadata": {},
   "source": [
    "# Kotlin Basics"
   ]
  },
  {
   "cell_type": "code",
   "execution_count": 1,
   "id": "67df57b8-0bd8-4a3e-a2db-a89b7036418b",
   "metadata": {},
   "outputs": [],
   "source": [
    "class Greeter(val name: String) {\n",
    "    fun greet() = println(\"Hello, $name!\")\n",
    "}"
   ]
  },
  {
   "cell_type": "code",
   "execution_count": 3,
   "id": "af931766-121c-4f99-9f98-a71201396db1",
   "metadata": {},
   "outputs": [
    {
     "name": "stdout",
     "output_type": "stream",
     "text": [
      "Hello, Matthew!\n"
     ]
    }
   ],
   "source": [
    "Greeter(\"Matthew\").greet()"
   ]
  },
  {
   "cell_type": "code",
   "execution_count": 6,
   "id": "5cc83225-8b8f-45e6-a80a-80fc374c1bc0",
   "metadata": {},
   "outputs": [],
   "source": [
    "fun main() {\n",
    "    println(\"Hello World!\")\n",
    "}"
   ]
  },
  {
   "cell_type": "code",
   "execution_count": 7,
   "id": "ae7b7402-0a30-426a-b7bd-6490b0667a97",
   "metadata": {},
   "outputs": [
    {
     "name": "stdout",
     "output_type": "stream",
     "text": [
      "Hello World!\n"
     ]
    }
   ],
   "source": [
    "main()"
   ]
  },
  {
   "cell_type": "code",
   "execution_count": 8,
   "id": "b23572df-ac95-459c-a178-40e8d4e66899",
   "metadata": {},
   "outputs": [],
   "source": [
    "fun sum(a: Int, b: Int): Int {\n",
    "    return a + b\n",
    "}"
   ]
  },
  {
   "cell_type": "code",
   "execution_count": 9,
   "id": "903a740f-e777-4a3d-8055-b8763830a7d3",
   "metadata": {},
   "outputs": [
    {
     "data": {
      "text/plain": [
       "93"
      ]
     },
     "execution_count": 9,
     "metadata": {},
     "output_type": "execute_result"
    }
   ],
   "source": [
    "sum(15, 78)"
   ]
  },
  {
   "cell_type": "code",
   "execution_count": 10,
   "id": "51047e52-e7ca-4f59-8b3e-67706aeab701",
   "metadata": {},
   "outputs": [],
   "source": [
    "fun printSum(a: Int, b: Int): Unit {\n",
    "    println(\"sum of $a and $b is ${a + b}\")\n",
    "}"
   ]
  },
  {
   "cell_type": "code",
   "execution_count": 11,
   "id": "306af83e-9bf2-4d28-9fdb-9b957d86cfaa",
   "metadata": {},
   "outputs": [
    {
     "name": "stdout",
     "output_type": "stream",
     "text": [
      "sum of 38 and 29 is 67\n"
     ]
    }
   ],
   "source": [
    "printSum(38, 29)"
   ]
  },
  {
   "cell_type": "markdown",
   "id": "1906807f-5adf-44db-b8e7-d10af8818a83",
   "metadata": {},
   "source": [
    "## Introduction"
   ]
  },
  {
   "cell_type": "raw",
   "id": "4433cd90-470d-4d9b-b754-a7581cf085e4",
   "metadata": {},
   "source": [
    "I will be copying and playing around with the basic examples found on the Kotlin guide here https://play.kotlinlang.org/byExample/01_introduction/01_Hello%20world"
   ]
  },
  {
   "cell_type": "markdown",
   "id": "b34c7103-34ed-46f6-a12b-1b029e879b85",
   "metadata": {},
   "source": [
    "### Hello World"
   ]
  },
  {
   "cell_type": "code",
   "execution_count": 4,
   "id": "a509da1b-fe70-4107-b770-bace2acb5414",
   "metadata": {},
   "outputs": [
    {
     "name": "stdout",
     "output_type": "stream",
     "text": [
      "Hello, world!\n"
     ]
    }
   ],
   "source": [
    "fun main() {\n",
    "    println(\"Hello, world!\")\n",
    "}\n",
    "\n",
    "main()"
   ]
  },
  {
   "cell_type": "markdown",
   "id": "160bd729-c2e3-431c-9f31-17921f318aef",
   "metadata": {},
   "source": [
    "### Functions\n",
    "In this section, we will see three types of functions used in Kotlin"
   ]
  },
  {
   "cell_type": "markdown",
   "id": "1e7c0eed-de70-424b-bf8f-224ea7b0f259",
   "metadata": {},
   "source": [
    "#### Default Parameter Values and Named Arguments"
   ]
  },
  {
   "cell_type": "code",
   "execution_count": 1,
   "id": "4000c0df-01e2-4eba-ba60-19368603c1e6",
   "metadata": {},
   "outputs": [
    {
     "name": "stdout",
     "output_type": "stream",
     "text": [
      "Hello\n",
      "[Log] Hello\n",
      "[Info] Hello\n",
      "[Log] Hello\n",
      "3\n",
      "8\n"
     ]
    }
   ],
   "source": [
    "// Default Parameter Values and Named Args\n",
    "fun printMessage(message: String): Unit {\n",
    "    println(message)\n",
    "}\n",
    "\n",
    "fun printMessageWithPrefix(message: String, prefix: String = \"Info\") {\n",
    "    println(\"[$prefix] $message\")\n",
    "}\n",
    "\n",
    "fun sum(x: Int, y: Int): Int {\n",
    "    return x + y;\n",
    "}\n",
    "\n",
    "fun multiply(x: Int, y: Int): Int {\n",
    "    return x * y;\n",
    "}\n",
    "\n",
    "printMessage(\"Hello\")\n",
    "printMessageWithPrefix(\"Hello\", \"Log\")\n",
    "printMessageWithPrefix(\"Hello\")\n",
    "printMessageWithPrefix(prefix = \"Log\", message = \"Hello\")\n",
    "println(sum(1,2))\n",
    "println(multiply(2,4))"
   ]
  },
  {
   "cell_type": "markdown",
   "id": "089a15e3-e9dd-4f14-be9b-efb14f14d516",
   "metadata": {},
   "source": [
    "#### Infix Functions"
   ]
  },
  {
   "cell_type": "code",
   "execution_count": 2,
   "id": "8630ed55-0945-42eb-adc0-5bfc4b2b79c4",
   "metadata": {},
   "outputs": [
    {
     "name": "stdout",
     "output_type": "stream",
     "text": [
      "Bye Bye \n",
      "What is 2\n",
      "What is 2\n",
      "kotlin.Unit\n",
      "(Kotlin, Notebook)\n",
      "(Test, it out)\n",
      "[Prefix][Kim]\n",
      "hello\n"
     ]
    }
   ],
   "source": [
    "// Infix Functions\n",
    "\n",
    "infix fun Int.times(str: String) = str.repeat(this)\n",
    "println(2 times \"Bye \")\n",
    "\n",
    "infix fun Int.explain(str: String) = println(\"What is $this\") // This returns a kotlin unit object\n",
    "2 explain \"What this refers to\"\n",
    "println(2 explain \"this will print out a unit object since that is what is being returned by the infix function\")\n",
    "\n",
    "val pair = \"Kotlin\" to \"Notebook\"\n",
    "println(pair)\n",
    "\n",
    "infix fun String.onto(other: String) = Pair(this, other)\n",
    "println(\"Test\" onto \"it out\")\n",
    "\n",
    "val Matteo = Person(\"Matteo\")\n",
    "val Kim = Person(\"Kim\")\n",
    "val Ted = Person(\"Ted\")\n",
    "\n",
    "Matteo likes Kim \n",
    "Kim likes Ted\n",
    "println(\"[Prefix]\" + Matteo.likedPeople.map {it.name})\n",
    "println(Matteo.test)\n",
    "\n",
    "val numbers = mutableListOf<Person>(Kim, Matteo, Ted)\n",
    "\n",
    "class Person(val name: String) {\n",
    "    val likedPeople = mutableListOf<Person>()\n",
    "    val test = \"hello\"\n",
    "    infix fun likes(other: Person) { this.likedPeople.add(other) }\n",
    "}"
   ]
  },
  {
   "cell_type": "markdown",
   "id": "544050ec-65b7-47cd-9e83-e710b8042661",
   "metadata": {},
   "source": [
    "#### Operator Functions"
   ]
  },
  {
   "cell_type": "code",
   "execution_count": 13,
   "id": "4037c731-7cae-4991-83ed-28591137694a",
   "metadata": {},
   "outputs": [
    {
     "name": "stdout",
     "output_type": "stream",
     "text": [
      "Woof Woof \n",
      "therefore\n"
     ]
    }
   ],
   "source": [
    "operator fun Int.times(str: String) = str.repeat(this)\n",
    "println(2 * \"Woof \")\n",
    "\n",
    "operator fun String.get(range: IntRange) = substring(range)\n",
    "val str = \"Heb 4:16 - Let us therefore come forward with boldness to the throne of grace that we may receive mercy and timely help\"\n",
    "println(str[18..26])"
   ]
  },
  {
   "cell_type": "code",
   "execution_count": 18,
   "id": "fe08c939-82d6-415f-b67d-c7a09fd4b756",
   "metadata": {},
   "outputs": [
    {
     "name": "stdout",
     "output_type": "stream",
     "text": [
      "3\n"
     ]
    }
   ],
   "source": [
    "var testArray = arrayOf(1,2,3,4,5)\n",
    "/* This doesn't work\n",
    "* testArray[1:4]\n",
    "* testArray[1..2]\n",
    "* So you need to use the operator fun to define it with operator fun <datatype>.get...\n",
    "*/\n",
    "println(testArray[2])"
   ]
  },
  {
   "cell_type": "markdown",
   "id": "3f13a834-cd9e-4102-8a44-b77afd258b41",
   "metadata": {},
   "source": [
    "#### Functions with `vararg` Parameters"
   ]
  },
  {
   "cell_type": "code",
   "execution_count": 39,
   "id": "533a770d-f838-4e1c-ba64-6f47f0e0ebe3",
   "metadata": {},
   "outputs": [
    {
     "name": "stdout",
     "output_type": "stream",
     "text": [
      "Hello\n",
      "Hallo\n",
      "Salut\n",
      "Hola\n",
      "----\n",
      "Greetings: Hello\n",
      "Greetings: Hallo\n",
      "Greetings: Salut\n",
      "Greetings: Hola\n",
      "----\n",
      "Hello\n",
      "Hallo\n",
      "Salut\n",
      "Hola\n",
      "Type of Entries: Array\n",
      "----\n",
      "Other Hello\n",
      "Other Hallo\n",
      "Other Salut\n",
      "Other Hola\n"
     ]
    }
   ],
   "source": [
    "fun printAll(vararg messages: String) {\n",
    "    // vararg modifier modifies parameter into a vararg\n",
    "    // Allowing any number of arguments to be passed in\n",
    "    for (m in messages) println(m)\n",
    "}\n",
    "printAll(\"Hello\", \"Hallo\", \"Salut\", \"Hola\")\n",
    "println(\"----\")\n",
    "\n",
    "fun printAllWithPrefix(vararg messages: String, prefix: String) {\n",
    "    // With named parameters, you can pass another parameter of the same type after the vararg\n",
    "    for (m in messages) println(prefix + m)\n",
    "}\n",
    "\n",
    "printAllWithPrefix(\n",
    "    \"Hello\", \"Hallo\", \"Salut\", \"Hola\",\n",
    "    prefix = \"Greetings: \"\n",
    ")\n",
    "println(\"----\")\n",
    "\n",
    "fun log(vararg entries: String) {\n",
    "    // Using the spread operator, you are able to pass in a vararg of String\n",
    "    // This way you don't have to pass in an Array of String\n",
    "    printAll(*entries)\n",
    "    println(\"Type of Entries: ${entries::class.simpleName}\")\n",
    "    println(\"----\")\n",
    "    // printAll(entries) doesn't work since printAll is looking for strings, not an Array<String>\n",
    "}\n",
    "\n",
    "log(\"Hello\", \"Hallo\", \"Salut\", \"Hola\")\n",
    "\n",
    "fun printAllWithPrefixBeginning(prefix: String, vararg messages: String) {\n",
    "    // With named parameters, you can pass another parameter of the same type after the vararg\n",
    "    // You cannot pass in another parameter that isn't the same time however\n",
    "    for (m in messages) println(prefix + m)\n",
    "}\n",
    "printAllWithPrefixInt(\n",
    "    \"Other \", \"Hello\", \"Hallo\", \"Salut\", \"Hola\"\n",
    ")"
   ]
  },
  {
   "cell_type": "markdown",
   "id": "382fc4a9-c102-40d9-a806-c96087d3f38d",
   "metadata": {},
   "source": [
    "### Variables\n",
    "Kotlin has type inference. Immutability is through the use of val over var"
   ]
  },
  {
   "cell_type": "code",
   "execution_count": 2,
   "id": "9597b3c4-22d4-448c-b8a4-76131e259431",
   "metadata": {},
   "outputs": [
    {
     "name": "stdout",
     "output_type": "stream",
     "text": [
      "Initial\n",
      "new string\n"
     ]
    }
   ],
   "source": [
    "var a: String = \"Initial\"\n",
    "println(a)\n",
    "val b: Int = 1\n",
    "val c = 3\n",
    "\n",
    "a = \"new string\"\n",
    "println(a)\n",
    "// b = c doesn't work and will throw an error"
   ]
  },
  {
   "cell_type": "code",
   "execution_count": 9,
   "id": "b5d76a55-b250-4a96-a4df-8a2965e460af",
   "metadata": {},
   "outputs": [
    {
     "name": "stdout",
     "output_type": "stream",
     "text": [
      "10\n",
      "12\n"
     ]
    }
   ],
   "source": [
    "// Can also declare a variable like this\n",
    "var d: Int\n",
    "d = if (b > 0) 10 else 2\n",
    "println(d)\n",
    "\n",
    "// Aparently I can't assign this declared variable unless it's var\n",
    "var e: Int\n",
    "e = 12\n",
    "println(e)"
   ]
  },
  {
   "cell_type": "code",
   "execution_count": null,
   "id": "7e9a816f-3484-4564-b06a-82293899cc1e",
   "metadata": {},
   "outputs": [],
   "source": []
  }
 ],
 "metadata": {
  "kernelspec": {
   "display_name": "Kotlin",
   "language": "kotlin",
   "name": "kotlin"
  },
  "language_info": {
   "codemirror_mode": "text/x-kotlin",
   "file_extension": ".kt",
   "mimetype": "text/x-kotlin",
   "name": "kotlin",
   "nbconvert_exporter": "",
   "pygments_lexer": "kotlin",
   "version": "1.9.23"
  }
 },
 "nbformat": 4,
 "nbformat_minor": 5
}
